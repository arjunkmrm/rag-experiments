{
 "cells": [
  {
   "cell_type": "markdown",
   "metadata": {},
   "source": [
    "### **LLMs as re-rankers**"
   ]
  },
  {
   "cell_type": "markdown",
   "metadata": {},
   "source": [
    "#### **Finding the right McChicken**"
   ]
  },
  {
   "cell_type": "markdown",
   "metadata": {},
   "source": [
    "This notebook compares single vector retriever with vector retrieval + reranking (using gpt 3.5 and gpt 4)"
   ]
  },
  {
   "cell_type": "markdown",
   "metadata": {},
   "source": [
    "**Paper**: Is ChatGPT Good at Search? Investigating Large Language Models as Re-Ranking Agents - https://arxiv.org/abs/2304.09542  "
   ]
  },
  {
   "cell_type": "markdown",
   "metadata": {},
   "source": [
    "**The test**: **How effective are LLMs are at re-ranking to identify target sentence to answer a question?**"
   ]
  },
  {
   "cell_type": "markdown",
   "metadata": {},
   "source": [
    "I test out the use of LLMs as rerankers (from https://github.com/sunnweiwei/RankGPT) by injecting random sentences into a text document (1 target sentence and 8 distractors). Sentences are inserted at random positions in paul graham's essays, spaced at 256 words apart. The text documents are then split using langchain recursive character splitter with chunk size as 256. This ensures that each chunk doesn't have two sentences injected into them. The position of the chunk with the target sentence (target chunk) is then compared along with the time taken for retrieval. \n",
    "\n",
    "**Question:**\n",
    "- \"Was paul vegan?\"\n",
    "\n",
    "**Target sentence:**\n",
    "- \"Paul liked to eat McChicken burger.\"\n",
    "\n",
    "**Example of distractors:**\n",
    "- \"Paul met McChicken at the library, where they discussed their favorite novels.\"  \n",
    "- \"While at the concert, Paul noticed Charlie enjoying a McChicken during the intermission, savoring each bite as he discussed the finer points of music.\"\n",
    "\n",
    "**Retrieval Methods**:\n",
    "- vanilla retrieval (single vector text-ada) of 20 chunks\n",
    "- vanilla retrieval of 20 chunks + gpt 3.5 turbo \n",
    "- vanilla retrieval of 20 chunks + gpt 4 turbo \n",
    "\n",
    "**Test**:\n",
    "- 50 runs of retrieval for each retrieval method and a comparison of target chunk position and retrieval (+ reranking) duration"
   ]
  },
  {
   "cell_type": "code",
   "execution_count": 34,
   "metadata": {},
   "outputs": [],
   "source": [
    "import os\n",
    "from dotenv import load_dotenv\n",
    "load_dotenv()  \n",
    "import warnings\n",
    "import random\n",
    "warnings.filterwarnings('ignore')\n",
    "api_key = os.environ.get(\"OPENAI_API_KEY\")\n"
   ]
  },
  {
   "cell_type": "code",
   "execution_count": 35,
   "metadata": {},
   "outputs": [],
   "source": [
    "def load_text_file(file_path):\n",
    "    try:\n",
    "        with open(file_path, 'r', encoding='utf-8') as file:\n",
    "            return file.read()\n",
    "    except FileNotFoundError:\n",
    "        return \"The file was not found.\"\n",
    "    except Exception as e:\n",
    "        return f\"An error occurred: {e}\"\n"
   ]
  },
  {
   "cell_type": "code",
   "execution_count": 36,
   "metadata": {},
   "outputs": [],
   "source": [
    "def convert_documents_to_query_structure(documents, query, method, duration):\n",
    "    return {\n",
    "        'query': query,\n",
    "        'hits': [{'content': doc.page_content} for doc in documents],\n",
    "        \"method\": method, # Add your custom key-value pair here\n",
    "        \"duration\": duration\n",
    "    }"
   ]
  },
  {
   "cell_type": "markdown",
   "metadata": {},
   "source": [
    "**Functions to inject random sentence**"
   ]
  },
  {
   "cell_type": "code",
   "execution_count": 37,
   "metadata": {},
   "outputs": [],
   "source": [
    "def find_injection_position(words, start_position):\n",
    "    # Generate a list of potential positions (after a period) for injection\n",
    "    potential_positions = [i + 1 for i in range(start_position, len(words)) if '.' in words[i]]\n",
    "\n",
    "    # If there are suitable positions found, return a random one\n",
    "    if potential_positions:\n",
    "        # Ensure the selected position is at least 256 words away from the start_position\n",
    "        filtered_positions = [pos for pos in potential_positions if pos > start_position + 256]\n",
    "        if filtered_positions:\n",
    "            return random.choice(filtered_positions)\n",
    "\n",
    "    # If no suitable position is found or if they are too close, return the end of the text\n",
    "    return len(words)\n"
   ]
  },
  {
   "cell_type": "code",
   "execution_count": 38,
   "metadata": {},
   "outputs": [],
   "source": [
    "def inject_sentences(text, sentences_to_inject):\n",
    "    # Split text into words\n",
    "    original_words = text.split()\n",
    "\n",
    "    # Shuffle the list of sentences to inject\n",
    "    random.shuffle(sentences_to_inject)\n",
    "\n",
    "    # The word count where the next sentence can be injected\n",
    "    next_inject_position = 0\n",
    "\n",
    "    # Iterate over the shuffled sentences to inject\n",
    "    for sentence in sentences_to_inject:\n",
    "        # Find a random position to inject this sentence\n",
    "        # Ensure it's at least 256 words apart from the last injection\n",
    "        position = find_injection_position(original_words, next_inject_position)\n",
    "\n",
    "        # Prepare connecting words\n",
    "        connecting_words = [\"Furthermore, \", \"Additionally, \", \"On another note, \", \"Moreover, \"]\n",
    "\n",
    "        # Choose a random connecting word\n",
    "        connector = random.choice(connecting_words)\n",
    "\n",
    "        # Inject the sentence\n",
    "        original_words.insert(position, connector + sentence)\n",
    "\n",
    "        # Update the next injection position\n",
    "        next_inject_position = position + len(sentence.split()) + 256\n",
    "\n",
    "    # Reassemble the text\n",
    "    modified_text = ' '.join(original_words)\n",
    "    return modified_text\n"
   ]
  },
  {
   "cell_type": "markdown",
   "metadata": {},
   "source": [
    "**List of sentences to inject**"
   ]
  },
  {
   "cell_type": "code",
   "execution_count": 39,
   "metadata": {},
   "outputs": [],
   "source": [
    "sentences_to_inject = sentences = [\n",
    "    \"Paul liked to eat McDonald's McChicken burger.\",\n",
    "    \"Paul met McChicken at the library, where they discussed their favorite novels.\",\n",
    "    \"In the park, Paul played chess with McChicken, who turned out to be a formidable opponent.\",\n",
    "    \"During the community meeting, Paul and Burgers collaborated on a plan to beautify the neighborhood.\",\n",
    "    \"McChicken and Paul volunteered together at the local animal shelter, taking care of abandoned pets.\",\n",
    "    \"While at the concert, Paul noticed Burgers enjoying a McChicken during the intermission, savoring each bite as he discussed the finer points of music.\",\n",
    "    \"During their morning jog, Paul saw McChicken energetically biting into a McChicken sandwich, talking about the balance of enjoying life while staying fit.\",\n",
    "    \"In the pottery class, amidst the clay and creativity, Paul watched as McChicken took a thoughtful bite of a McChicken, reflecting on their shared passion for the arts.\",\n",
    "    \"As they celebrated their first-place win in the science competition, Paul observed Burgers treating himself to a well-deserved McChicken, their success making it taste even better.\",\n",
    "    \"At the museum, amidst a discussion of world history, Paul saw McChicken passionately explain the significance of ancient events, pausing only to enjoy bites of his McChicken sandwich.\"\n",
    "]\n"
   ]
  },
  {
   "cell_type": "markdown",
   "metadata": {},
   "source": [
    "**The Test**"
   ]
  },
  {
   "cell_type": "code",
   "execution_count": 40,
   "metadata": {},
   "outputs": [],
   "source": [
    "from langchain.text_splitter import RecursiveCharacterTextSplitter\n",
    "from langchain_community.vectorstores import FAISS\n",
    "from langchain.embeddings import OpenAIEmbeddings\n",
    "from rank_gpt import permutation_pipeline\n",
    "import time"
   ]
  },
  {
   "cell_type": "markdown",
   "metadata": {},
   "source": [
    "Inject given random sentences into text"
   ]
  },
  {
   "cell_type": "code",
   "execution_count": 41,
   "metadata": {},
   "outputs": [],
   "source": [
    "def prep_text(file_path, sentences_to_inject):\n",
    "    text = load_text_file(file_path)\n",
    "    injected_text = inject_sentences(text, sentences_to_inject)\n",
    "    text_splitter = RecursiveCharacterTextSplitter(\n",
    "        chunk_size=256,\n",
    "        chunk_overlap=16,\n",
    "        length_function=len,\n",
    "        is_separator_regex=False,\n",
    "    )\n",
    "    texts = text_splitter.create_documents([injected_text])\n",
    "    return texts"
   ]
  },
  {
   "cell_type": "markdown",
   "metadata": {},
   "source": [
    "Perform vanilla retrieval or vanilla retrieval + reranking"
   ]
  },
  {
   "cell_type": "code",
   "execution_count": 42,
   "metadata": {},
   "outputs": [],
   "source": [
    "def perform_retrieval(method, texts, api_key):\n",
    "    embeddings = OpenAIEmbeddings()\n",
    "    db = FAISS.from_documents(texts, embeddings)\n",
    "    retriever = db.as_retriever(search_kwargs={\"k\": 10})\n",
    "    query = \"was paul vegan?\"\n",
    "\n",
    "    start_time = time.time()\n",
    "    retrievals = retriever.get_relevant_documents(query)\n",
    "    items = convert_documents_to_query_structure(retrievals, query, method, 0)\n",
    "\n",
    "    if method != \"vanilla\":\n",
    "        new_items = permutation_pipeline(items, rank_start=0, rank_end=19, model_name=method, api_key=api_key)\n",
    "        new_items['duration'] = time.time() - start_time\n",
    "        return new_items\n",
    "    else:\n",
    "        items['duration'] = time.time() - start_time\n",
    "        return items"
   ]
  },
  {
   "cell_type": "code",
   "execution_count": 43,
   "metadata": {},
   "outputs": [],
   "source": [
    "file_path = './docs/paul_graham_essay.txt'\n",
    "documents = []\n",
    "methods = [\"vanilla\", \"gpt-3.5-turbo-1106\", \"gpt-4-1106-preview\"]\n",
    "n = 50"
   ]
  },
  {
   "cell_type": "markdown",
   "metadata": {},
   "source": [
    "Run loop - n times for each method"
   ]
  },
  {
   "cell_type": "code",
   "execution_count": 44,
   "metadata": {},
   "outputs": [],
   "source": [
    "for method in methods:\n",
    "    for i in range(0, n):\n",
    "        injected_texts = prep_text(file_path, sentences_to_inject)\n",
    "        result = perform_retrieval(method, injected_texts, api_key)\n",
    "        documents.append(result)\n"
   ]
  },
  {
   "cell_type": "markdown",
   "metadata": {},
   "source": [
    "Extract df from results"
   ]
  },
  {
   "cell_type": "code",
   "execution_count": 45,
   "metadata": {},
   "outputs": [],
   "source": [
    "import pandas as pd\n",
    "\n",
    "def find_target_sentence_in_documents(documents, target_sentence):\n",
    "    # Initialize an empty list to collect rows\n",
    "    rows = []\n",
    "\n",
    "    # Iterate through the documents\n",
    "    for doc in documents:\n",
    "        hits = doc['hits']\n",
    "        method = doc.get('method')  # Use get() to avoid KeyError if 'method' does not exist\n",
    "        duration = doc.get('duration')\n",
    "        \n",
    "        for index, item in enumerate(hits):\n",
    "            content = item.get('content')  # Use get() to avoid KeyError if 'content' does not exist\n",
    "            if target_sentence in content:\n",
    "                # Create a dictionary for the row and add to the list\n",
    "                rows.append({'position': index + 1, 'method': method, 'duration': duration})\n",
    "                break  # Exit the loop once the target sentence is found\n",
    "\n",
    "    # Create a DataFrame from the list of rows\n",
    "    df = pd.DataFrame(rows)\n",
    "\n",
    "    return df\n",
    "\n",
    "# Example usage\n",
    "target_sentence = \"Paul liked to eat McDonald's McChicken burger.\"\n",
    "df = find_target_sentence_in_documents(documents, target_sentence)"
   ]
  },
  {
   "cell_type": "code",
   "execution_count": 46,
   "metadata": {},
   "outputs": [
    {
     "data": {
      "text/html": [
       "<div>\n",
       "<style scoped>\n",
       "    .dataframe tbody tr th:only-of-type {\n",
       "        vertical-align: middle;\n",
       "    }\n",
       "\n",
       "    .dataframe tbody tr th {\n",
       "        vertical-align: top;\n",
       "    }\n",
       "\n",
       "    .dataframe thead th {\n",
       "        text-align: right;\n",
       "    }\n",
       "</style>\n",
       "<table border=\"1\" class=\"dataframe\">\n",
       "  <thead>\n",
       "    <tr style=\"text-align: right;\">\n",
       "      <th></th>\n",
       "      <th>position</th>\n",
       "      <th>method</th>\n",
       "      <th>duration</th>\n",
       "    </tr>\n",
       "  </thead>\n",
       "  <tbody>\n",
       "    <tr>\n",
       "      <th>0</th>\n",
       "      <td>2</td>\n",
       "      <td>vanilla</td>\n",
       "      <td>0.450947</td>\n",
       "    </tr>\n",
       "    <tr>\n",
       "      <th>1</th>\n",
       "      <td>4</td>\n",
       "      <td>vanilla</td>\n",
       "      <td>0.305946</td>\n",
       "    </tr>\n",
       "    <tr>\n",
       "      <th>2</th>\n",
       "      <td>5</td>\n",
       "      <td>vanilla</td>\n",
       "      <td>0.450533</td>\n",
       "    </tr>\n",
       "    <tr>\n",
       "      <th>43</th>\n",
       "      <td>1</td>\n",
       "      <td>gpt-3.5-turbo-1106</td>\n",
       "      <td>1.513926</td>\n",
       "    </tr>\n",
       "    <tr>\n",
       "      <th>44</th>\n",
       "      <td>1</td>\n",
       "      <td>gpt-3.5-turbo-1106</td>\n",
       "      <td>1.837910</td>\n",
       "    </tr>\n",
       "    <tr>\n",
       "      <th>45</th>\n",
       "      <td>4</td>\n",
       "      <td>gpt-3.5-turbo-1106</td>\n",
       "      <td>1.505612</td>\n",
       "    </tr>\n",
       "    <tr>\n",
       "      <th>89</th>\n",
       "      <td>1</td>\n",
       "      <td>gpt-4-1106-preview</td>\n",
       "      <td>1.735949</td>\n",
       "    </tr>\n",
       "    <tr>\n",
       "      <th>90</th>\n",
       "      <td>1</td>\n",
       "      <td>gpt-4-1106-preview</td>\n",
       "      <td>2.933766</td>\n",
       "    </tr>\n",
       "    <tr>\n",
       "      <th>91</th>\n",
       "      <td>1</td>\n",
       "      <td>gpt-4-1106-preview</td>\n",
       "      <td>2.536168</td>\n",
       "    </tr>\n",
       "  </tbody>\n",
       "</table>\n",
       "</div>"
      ],
      "text/plain": [
       "    position              method  duration\n",
       "0          2             vanilla  0.450947\n",
       "1          4             vanilla  0.305946\n",
       "2          5             vanilla  0.450533\n",
       "43         1  gpt-3.5-turbo-1106  1.513926\n",
       "44         1  gpt-3.5-turbo-1106  1.837910\n",
       "45         4  gpt-3.5-turbo-1106  1.505612\n",
       "89         1  gpt-4-1106-preview  1.735949\n",
       "90         1  gpt-4-1106-preview  2.933766\n",
       "91         1  gpt-4-1106-preview  2.536168"
      ]
     },
     "execution_count": 46,
     "metadata": {},
     "output_type": "execute_result"
    }
   ],
   "source": [
    "df.groupby('method').head(3)"
   ]
  },
  {
   "cell_type": "code",
   "execution_count": 61,
   "metadata": {},
   "outputs": [
    {
     "data": {
      "text/html": [
       "<div>\n",
       "<style scoped>\n",
       "    .dataframe tbody tr th:only-of-type {\n",
       "        vertical-align: middle;\n",
       "    }\n",
       "\n",
       "    .dataframe tbody tr th {\n",
       "        vertical-align: top;\n",
       "    }\n",
       "\n",
       "    .dataframe thead th {\n",
       "        text-align: right;\n",
       "    }\n",
       "</style>\n",
       "<table border=\"1\" class=\"dataframe\">\n",
       "  <thead>\n",
       "    <tr style=\"text-align: right;\">\n",
       "      <th></th>\n",
       "      <th>method</th>\n",
       "      <th>average_position (out of 10)</th>\n",
       "    </tr>\n",
       "  </thead>\n",
       "  <tbody>\n",
       "    <tr>\n",
       "      <th>1</th>\n",
       "      <td>gpt-4-1106-preview</td>\n",
       "      <td>1.090909</td>\n",
       "    </tr>\n",
       "    <tr>\n",
       "      <th>0</th>\n",
       "      <td>gpt-3.5-turbo-1106</td>\n",
       "      <td>1.847826</td>\n",
       "    </tr>\n",
       "    <tr>\n",
       "      <th>2</th>\n",
       "      <td>vanilla</td>\n",
       "      <td>3.000000</td>\n",
       "    </tr>\n",
       "  </tbody>\n",
       "</table>\n",
       "</div>"
      ],
      "text/plain": [
       "               method  average_position (out of 10)\n",
       "1  gpt-4-1106-preview                      1.090909\n",
       "0  gpt-3.5-turbo-1106                      1.847826\n",
       "2             vanilla                      3.000000"
      ]
     },
     "execution_count": 61,
     "metadata": {},
     "output_type": "execute_result"
    }
   ],
   "source": [
    "# Calculate the average position for each method\n",
    "df_average = df.groupby('method')['position'].mean().reset_index(name='average_position (out of 10)')\n",
    "\n",
    "# Sort the DataFrame in ascending order based on average positions\n",
    "df_average_sorted = df_average.sort_values(by='average_position (out of 10)', ascending=True)\n",
    "\n",
    "df_average_sorted"
   ]
  },
  {
   "cell_type": "markdown",
   "metadata": {},
   "source": [
    "Total number of retrievals within the top 10 window (numbers vary because of randomisation)"
   ]
  },
  {
   "cell_type": "code",
   "execution_count": 70,
   "metadata": {},
   "outputs": [
    {
     "name": "stdout",
     "output_type": "stream",
     "text": [
      "               method  count\n",
      "0  gpt-3.5-turbo-1106     46\n",
      "1  gpt-4-1106-preview     44\n",
      "2             vanilla     43\n"
     ]
    }
   ],
   "source": [
    "# Count the number of times each method appears\n",
    "method_counts = df['method'].value_counts()\n",
    "\n",
    "# Convert the Series into a DataFrame\n",
    "df_method_counts = method_counts.reset_index()\n",
    "df_method_counts.columns = ['method', 'count']\n",
    "\n",
    "# Display the new DataFrame\n",
    "print(df_method_counts)"
   ]
  },
  {
   "cell_type": "markdown",
   "metadata": {},
   "source": [
    "Number of hits of target chunk at position 1 "
   ]
  },
  {
   "cell_type": "code",
   "execution_count": 67,
   "metadata": {},
   "outputs": [
    {
     "data": {
      "text/plain": [
       "method\n",
       "gpt-4-1106-preview    41\n",
       "gpt-3.5-turbo-1106    31\n",
       "vanilla               11\n",
       "Name: count, dtype: int64"
      ]
     },
     "execution_count": 67,
     "metadata": {},
     "output_type": "execute_result"
    }
   ],
   "source": [
    "# Filter the DataFrame for rows where position is 1\n",
    "df_position_1 = df[df['position'] == 1]\n",
    "\n",
    "# Count the number of occurrences of each method at position 1\n",
    "position_1_counts = df_position_1['method'].value_counts()\n",
    "\n",
    "# Display the counts\n",
    "position_1_counts"
   ]
  },
  {
   "cell_type": "markdown",
   "metadata": {},
   "source": [
    "**gpt-4 hits the target chunk 41 times out of 44 times!**"
   ]
  },
  {
   "cell_type": "markdown",
   "metadata": {},
   "source": [
    "Visualing target chunk position"
   ]
  },
  {
   "cell_type": "code",
   "execution_count": 48,
   "metadata": {},
   "outputs": [],
   "source": [
    "# Define colors for each method\n",
    "color_map = {\n",
    "    'vanilla': '#2ca02c',\n",
    "    'gpt-3.5-turbo-1106': '#1f77b4',\n",
    "    'gpt-4-1106-preview': '#d62728'\n",
    "}\n",
    "\n",
    "legend_names = {'vanilla': 'vanilla retrieval', \n",
    "                'gpt-3.5-turbo-1106': 'vanilla retrieval + gpt-3.5 reranking', \n",
    "                'gpt-4-1106-preview': 'vanilla retrieval + gpt-4 reranking'\n",
    "}\n"
   ]
  },
  {
   "cell_type": "code",
   "execution_count": 50,
   "metadata": {},
   "outputs": [
    {
     "data": {
      "image/svg+xml": [
       "<svg class=\"main-svg\" xmlns=\"http://www.w3.org/2000/svg\" xmlns:xlink=\"http://www.w3.org/1999/xlink\" width=\"700\" height=\"500\" style=\"\" viewBox=\"0 0 700 500\"><rect x=\"0\" y=\"0\" width=\"700\" height=\"500\" style=\"fill: rgb(17, 17, 17); fill-opacity: 1;\"/><defs id=\"defs-69ae22\"><g class=\"clips\"><clipPath id=\"clip69ae22xyplot\" class=\"plotclip\"><rect width=\"337\" height=\"320\"/></clipPath><clipPath class=\"axesclip\" id=\"clip69ae22x\"><rect x=\"80\" y=\"0\" width=\"337\" height=\"500\"/></clipPath><clipPath class=\"axesclip\" id=\"clip69ae22y\"><rect x=\"0\" y=\"100\" width=\"700\" height=\"320\"/></clipPath><clipPath class=\"axesclip\" id=\"clip69ae22xy\"><rect x=\"80\" y=\"100\" width=\"337\" height=\"320\"/></clipPath></g><g class=\"gradients\"/><g class=\"patterns\"/></defs><g class=\"bglayer\"/><g class=\"layer-below\"><g class=\"imagelayer\"/><g class=\"shapelayer\"/></g><g class=\"cartesianlayer\"><g class=\"subplot xy\"><g class=\"layer-subplot\"><g class=\"shapelayer\"/><g class=\"imagelayer\"/></g><g class=\"minor-gridlayer\"><g class=\"x\"/><g class=\"y\"/></g><g class=\"gridlayer\"><g class=\"x\"/><g class=\"y\"><path class=\"ygrid crisp\" transform=\"translate(0,382.93)\" d=\"M80,0h337\" style=\"stroke: rgb(40, 52, 66); stroke-opacity: 1; stroke-width: 1px;\"/><path class=\"ygrid crisp\" transform=\"translate(0,345.85)\" d=\"M80,0h337\" style=\"stroke: rgb(40, 52, 66); stroke-opacity: 1; stroke-width: 1px;\"/><path class=\"ygrid crisp\" transform=\"translate(0,308.78)\" d=\"M80,0h337\" style=\"stroke: rgb(40, 52, 66); stroke-opacity: 1; stroke-width: 1px;\"/><path class=\"ygrid crisp\" transform=\"translate(0,271.71000000000004)\" d=\"M80,0h337\" style=\"stroke: rgb(40, 52, 66); stroke-opacity: 1; stroke-width: 1px;\"/><path class=\"ygrid crisp\" transform=\"translate(0,234.63)\" d=\"M80,0h337\" style=\"stroke: rgb(40, 52, 66); stroke-opacity: 1; stroke-width: 1px;\"/><path class=\"ygrid crisp\" transform=\"translate(0,197.56)\" d=\"M80,0h337\" style=\"stroke: rgb(40, 52, 66); stroke-opacity: 1; stroke-width: 1px;\"/><path class=\"ygrid crisp\" transform=\"translate(0,160.49)\" d=\"M80,0h337\" style=\"stroke: rgb(40, 52, 66); stroke-opacity: 1; stroke-width: 1px;\"/><path class=\"ygrid crisp\" transform=\"translate(0,123.41)\" d=\"M80,0h337\" style=\"stroke: rgb(40, 52, 66); stroke-opacity: 1; stroke-width: 1px;\"/></g></g><g class=\"zerolinelayer\"><path class=\"yzl zl crisp\" transform=\"translate(0,420)\" d=\"M80,0h337\" style=\"stroke: rgb(40, 52, 66); stroke-opacity: 1; stroke-width: 2px;\"/></g><path class=\"xlines-below\"/><path class=\"ylines-below\"/><g class=\"overlines-below\"/><g class=\"xaxislayer-below\"/><g class=\"yaxislayer-below\"/><g class=\"overaxes-below\"/><g class=\"plot\" transform=\"translate(80,100)\" clip-path=\"url(#clip69ae22xyplot)\"><g class=\"barlayer mlayer\"><g class=\"trace bars\" style=\"opacity: 1;\"><g class=\"points\"><g class=\"point\"><path d=\"M14.51,320V90.15H22.93V320Z\" style=\"vector-effect: none; opacity: 1; stroke-width: 0.5px; fill: rgb(31, 119, 180); fill-opacity: 1; stroke: rgb(17, 17, 17); stroke-opacity: 1;\"/></g><g class=\"point\"><path d=\"M70.68,320V275.51H79.1V320Z\" style=\"vector-effect: none; opacity: 1; stroke-width: 0.5px; fill: rgb(31, 119, 180); fill-opacity: 1; stroke: rgb(17, 17, 17); stroke-opacity: 1;\"/></g><g class=\"point\"><path d=\"M126.84,320V305.17H135.27V320Z\" style=\"vector-effect: none; opacity: 1; stroke-width: 0.5px; fill: rgb(31, 119, 180); fill-opacity: 1; stroke: rgb(17, 17, 17); stroke-opacity: 1;\"/></g><g class=\"point\"><path d=\"M183.01,320V305.17H191.43V320Z\" style=\"vector-effect: none; opacity: 1; stroke-width: 0.5px; fill: rgb(31, 119, 180); fill-opacity: 1; stroke: rgb(17, 17, 17); stroke-opacity: 1;\"/></g><g class=\"point\"><path d=\"M239.18,320V305.17H247.6V320Z\" style=\"vector-effect: none; opacity: 1; stroke-width: 0.5px; fill: rgb(31, 119, 180); fill-opacity: 1; stroke: rgb(17, 17, 17); stroke-opacity: 1;\"/></g><g class=\"point\"><path d=\"M295.34,320V297.76H303.77V320Z\" style=\"vector-effect: none; opacity: 1; stroke-width: 0.5px; fill: rgb(31, 119, 180); fill-opacity: 1; stroke: rgb(17, 17, 17); stroke-opacity: 1;\"/></g></g></g><g class=\"trace bars\" style=\"opacity: 1;\"><g class=\"points\"><g class=\"point\"><path d=\"M23.87,320V16H32.3V320Z\" style=\"vector-effect: none; opacity: 1; stroke-width: 0.5px; fill: rgb(214, 39, 40); fill-opacity: 1; stroke: rgb(17, 17, 17); stroke-opacity: 1;\"/></g><g class=\"point\"><path d=\"M80.04,320V305.17H88.46V320Z\" style=\"vector-effect: none; opacity: 1; stroke-width: 0.5px; fill: rgb(214, 39, 40); fill-opacity: 1; stroke: rgb(17, 17, 17); stroke-opacity: 1;\"/></g><g class=\"point\"><path d=\"M136.2,320V312.59H144.63V320Z\" style=\"vector-effect: none; opacity: 1; stroke-width: 0.5px; fill: rgb(214, 39, 40); fill-opacity: 1; stroke: rgb(17, 17, 17); stroke-opacity: 1;\"/></g></g></g><g class=\"trace bars\" style=\"opacity: 1;\"><g class=\"points\"><g class=\"point\"><path d=\"M33.23,320V238.44H41.66V320Z\" style=\"vector-effect: none; opacity: 1; stroke-width: 0.5px; fill: rgb(44, 160, 44); fill-opacity: 1; stroke: rgb(17, 17, 17); stroke-opacity: 1;\"/></g><g class=\"point\"><path d=\"M89.4,320V268.1H97.82V320Z\" style=\"vector-effect: none; opacity: 1; stroke-width: 0.5px; fill: rgb(44, 160, 44); fill-opacity: 1; stroke: rgb(17, 17, 17); stroke-opacity: 1;\"/></g><g class=\"point\"><path d=\"M145.57,320V260.68H153.99V320Z\" style=\"vector-effect: none; opacity: 1; stroke-width: 0.5px; fill: rgb(44, 160, 44); fill-opacity: 1; stroke: rgb(17, 17, 17); stroke-opacity: 1;\"/></g><g class=\"point\"><path d=\"M201.73,320V260.68H210.16V320Z\" style=\"vector-effect: none; opacity: 1; stroke-width: 0.5px; fill: rgb(44, 160, 44); fill-opacity: 1; stroke: rgb(17, 17, 17); stroke-opacity: 1;\"/></g><g class=\"point\"><path d=\"M257.9,320V275.51H266.32V320Z\" style=\"vector-effect: none; opacity: 1; stroke-width: 0.5px; fill: rgb(44, 160, 44); fill-opacity: 1; stroke: rgb(17, 17, 17); stroke-opacity: 1;\"/></g><g class=\"point\"><path d=\"M314.07,320V297.76H322.49V320Z\" style=\"vector-effect: none; opacity: 1; stroke-width: 0.5px; fill: rgb(44, 160, 44); fill-opacity: 1; stroke: rgb(17, 17, 17); stroke-opacity: 1;\"/></g></g></g></g></g><g class=\"overplot\"/><path class=\"xlines-above crisp\" d=\"M0,0\" style=\"fill: none;\"/><path class=\"ylines-above crisp\" d=\"M0,0\" style=\"fill: none;\"/><g class=\"overlines-above\"/><g class=\"xaxislayer-above\"><g class=\"xtick\"><text text-anchor=\"middle\" x=\"0\" y=\"433\" transform=\"translate(108.08,0)\" style=\"font-family: 'Open Sans', verdana, arial, sans-serif; font-size: 12px; fill: rgb(242, 245, 250); fill-opacity: 1; white-space: pre; opacity: 1;\">1</text></g><g class=\"xtick\"><text text-anchor=\"middle\" x=\"0\" y=\"433\" style=\"font-family: 'Open Sans', verdana, arial, sans-serif; font-size: 12px; fill: rgb(242, 245, 250); fill-opacity: 1; white-space: pre; opacity: 1;\" transform=\"translate(164.25,0)\">2</text></g><g class=\"xtick\"><text text-anchor=\"middle\" x=\"0\" y=\"433\" style=\"font-family: 'Open Sans', verdana, arial, sans-serif; font-size: 12px; fill: rgb(242, 245, 250); fill-opacity: 1; white-space: pre; opacity: 1;\" transform=\"translate(220.42,0)\">3</text></g><g class=\"xtick\"><text text-anchor=\"middle\" x=\"0\" y=\"433\" style=\"font-family: 'Open Sans', verdana, arial, sans-serif; font-size: 12px; fill: rgb(242, 245, 250); fill-opacity: 1; white-space: pre; opacity: 1;\" transform=\"translate(276.58000000000004,0)\">4</text></g><g class=\"xtick\"><text text-anchor=\"middle\" x=\"0\" y=\"433\" style=\"font-family: 'Open Sans', verdana, arial, sans-serif; font-size: 12px; fill: rgb(242, 245, 250); fill-opacity: 1; white-space: pre; opacity: 1;\" transform=\"translate(332.75,0)\">5</text></g><g class=\"xtick\"><text text-anchor=\"middle\" x=\"0\" y=\"433\" style=\"font-family: 'Open Sans', verdana, arial, sans-serif; font-size: 12px; fill: rgb(242, 245, 250); fill-opacity: 1; white-space: pre; opacity: 1;\" transform=\"translate(388.92,0)\">6</text></g></g><g class=\"yaxislayer-above\"><g class=\"ytick\"><text text-anchor=\"end\" x=\"79\" y=\"4.199999999999999\" transform=\"translate(0,420)\" style=\"font-family: 'Open Sans', verdana, arial, sans-serif; font-size: 12px; fill: rgb(242, 245, 250); fill-opacity: 1; white-space: pre; opacity: 1;\">0</text></g><g class=\"ytick\"><text text-anchor=\"end\" x=\"79\" y=\"4.199999999999999\" style=\"font-family: 'Open Sans', verdana, arial, sans-serif; font-size: 12px; fill: rgb(242, 245, 250); fill-opacity: 1; white-space: pre; opacity: 1;\" transform=\"translate(0,382.93)\">5</text></g><g class=\"ytick\"><text text-anchor=\"end\" x=\"79\" y=\"4.199999999999999\" style=\"font-family: 'Open Sans', verdana, arial, sans-serif; font-size: 12px; fill: rgb(242, 245, 250); fill-opacity: 1; white-space: pre; opacity: 1;\" transform=\"translate(0,345.85)\">10</text></g><g class=\"ytick\"><text text-anchor=\"end\" x=\"79\" y=\"4.199999999999999\" style=\"font-family: 'Open Sans', verdana, arial, sans-serif; font-size: 12px; fill: rgb(242, 245, 250); fill-opacity: 1; white-space: pre; opacity: 1;\" transform=\"translate(0,308.78)\">15</text></g><g class=\"ytick\"><text text-anchor=\"end\" x=\"79\" y=\"4.199999999999999\" style=\"font-family: 'Open Sans', verdana, arial, sans-serif; font-size: 12px; fill: rgb(242, 245, 250); fill-opacity: 1; white-space: pre; opacity: 1;\" transform=\"translate(0,271.71000000000004)\">20</text></g><g class=\"ytick\"><text text-anchor=\"end\" x=\"79\" y=\"4.199999999999999\" style=\"font-family: 'Open Sans', verdana, arial, sans-serif; font-size: 12px; fill: rgb(242, 245, 250); fill-opacity: 1; white-space: pre; opacity: 1;\" transform=\"translate(0,234.63)\">25</text></g><g class=\"ytick\"><text text-anchor=\"end\" x=\"79\" y=\"4.199999999999999\" style=\"font-family: 'Open Sans', verdana, arial, sans-serif; font-size: 12px; fill: rgb(242, 245, 250); fill-opacity: 1; white-space: pre; opacity: 1;\" transform=\"translate(0,197.56)\">30</text></g><g class=\"ytick\"><text text-anchor=\"end\" x=\"79\" y=\"4.199999999999999\" style=\"font-family: 'Open Sans', verdana, arial, sans-serif; font-size: 12px; fill: rgb(242, 245, 250); fill-opacity: 1; white-space: pre; opacity: 1;\" transform=\"translate(0,160.49)\">35</text></g><g class=\"ytick\"><text text-anchor=\"end\" x=\"79\" y=\"4.199999999999999\" style=\"font-family: 'Open Sans', verdana, arial, sans-serif; font-size: 12px; fill: rgb(242, 245, 250); fill-opacity: 1; white-space: pre; opacity: 1;\" transform=\"translate(0,123.41)\">40</text></g></g><g class=\"overaxes-above\"/></g></g><g class=\"polarlayer\"/><g class=\"smithlayer\"/><g class=\"ternarylayer\"/><g class=\"geolayer\"/><g class=\"funnelarealayer\"/><g class=\"pielayer\"/><g class=\"iciclelayer\"/><g class=\"treemaplayer\"/><g class=\"sunburstlayer\"/><g class=\"glimages\"/><defs id=\"topdefs-69ae22\"><g class=\"clips\"/><clipPath id=\"legend69ae22\"><rect width=\"264\" height=\"86\" x=\"0\" y=\"0\"/></clipPath></defs><g class=\"layer-above\"><g class=\"imagelayer\"/><g class=\"shapelayer\"/></g><g class=\"infolayer\"><g class=\"legend\" pointer-events=\"all\" transform=\"translate(423.74,100)\"><rect class=\"bg\" shape-rendering=\"crispEdges\" width=\"264\" height=\"86\" x=\"0\" y=\"0\" style=\"stroke: rgb(68, 68, 68); stroke-opacity: 1; fill: rgb(17, 17, 17); fill-opacity: 1; stroke-width: 0px;\"/><g class=\"scrollbox\" transform=\"\" clip-path=\"url(#legend69ae22)\"><text class=\"legendtitletext\" text-anchor=\"start\" x=\"2\" y=\"18.2\" style=\"font-family: 'Open Sans', verdana, arial, sans-serif; font-size: 14px; fill: rgb(242, 245, 250); fill-opacity: 1; white-space: pre;\">Method</text><g class=\"groups\" transform=\"\"><g class=\"traces\" transform=\"translate(0,32.7)\" style=\"opacity: 1;\"><text class=\"legendtext\" text-anchor=\"start\" x=\"40\" y=\"4.680000000000001\" style=\"font-family: 'Open Sans', verdana, arial, sans-serif; font-size: 12px; fill: rgb(242, 245, 250); fill-opacity: 1; white-space: pre;\">vanilla retrieval + gpt-3.5 reranking</text><g class=\"layers\" style=\"opacity: 1;\"><g class=\"legendfill\"/><g class=\"legendlines\"/><g class=\"legendsymbols\"><g class=\"legendpoints\"><path class=\"legendundefined\" d=\"M6,6H-6V-6H6Z\" transform=\"translate(20,0)\" style=\"stroke-width: 0.5px; fill: rgb(31, 119, 180); fill-opacity: 1; stroke: rgb(17, 17, 17); stroke-opacity: 1;\"/></g></g></g><rect class=\"legendtoggle\" x=\"0\" y=\"-9.5\" width=\"258.265625\" height=\"19\" style=\"fill: rgb(0, 0, 0); fill-opacity: 0;\"/></g></g><g class=\"groups\" transform=\"\"><g class=\"traces\" transform=\"translate(0,51.7)\" style=\"opacity: 1;\"><text class=\"legendtext\" text-anchor=\"start\" x=\"40\" y=\"4.680000000000001\" style=\"font-family: 'Open Sans', verdana, arial, sans-serif; font-size: 12px; fill: rgb(242, 245, 250); fill-opacity: 1; white-space: pre;\">vanilla retrieval + gpt-4 reranking</text><g class=\"layers\" style=\"opacity: 1;\"><g class=\"legendfill\"/><g class=\"legendlines\"/><g class=\"legendsymbols\"><g class=\"legendpoints\"><path class=\"legendundefined\" d=\"M6,6H-6V-6H6Z\" transform=\"translate(20,0)\" style=\"stroke-width: 0.5px; fill: rgb(214, 39, 40); fill-opacity: 1; stroke: rgb(17, 17, 17); stroke-opacity: 1;\"/></g></g></g><rect class=\"legendtoggle\" x=\"0\" y=\"-9.5\" width=\"258.265625\" height=\"19\" style=\"fill: rgb(0, 0, 0); fill-opacity: 0;\"/></g></g><g class=\"groups\" transform=\"\"><g class=\"traces\" transform=\"translate(0,70.7)\" style=\"opacity: 1;\"><text class=\"legendtext\" text-anchor=\"start\" x=\"40\" y=\"4.680000000000001\" style=\"font-family: 'Open Sans', verdana, arial, sans-serif; font-size: 12px; fill: rgb(242, 245, 250); fill-opacity: 1; white-space: pre;\">vanilla retrieval</text><g class=\"layers\" style=\"opacity: 1;\"><g class=\"legendfill\"/><g class=\"legendlines\"/><g class=\"legendsymbols\"><g class=\"legendpoints\"><path class=\"legendundefined\" d=\"M6,6H-6V-6H6Z\" transform=\"translate(20,0)\" style=\"stroke-width: 0.5px; fill: rgb(44, 160, 44); fill-opacity: 1; stroke: rgb(17, 17, 17); stroke-opacity: 1;\"/></g></g></g><rect class=\"legendtoggle\" x=\"0\" y=\"-9.5\" width=\"258.265625\" height=\"19\" style=\"fill: rgb(0, 0, 0); fill-opacity: 0;\"/></g></g></g><rect class=\"scrollbar\" rx=\"20\" ry=\"3\" width=\"0\" height=\"0\" x=\"0\" y=\"0\" style=\"fill: rgb(128, 139, 164); fill-opacity: 1;\"/></g><g class=\"g-gtitle\"><text class=\"gtitle\" x=\"35\" y=\"50\" text-anchor=\"start\" dy=\"0em\" style=\"font-family: 'Open Sans', verdana, arial, sans-serif; font-size: 17px; fill: rgb(242, 245, 250); opacity: 1; font-weight: normal; white-space: pre;\">Target chunk position from 50 runs</text></g><g class=\"g-xtitle\"><text class=\"xtitle\" x=\"248.5\" y=\"459.8\" text-anchor=\"middle\" style=\"font-family: 'Open Sans', verdana, arial, sans-serif; font-size: 14px; fill: rgb(242, 245, 250); opacity: 1; font-weight: normal; white-space: pre;\">Position</text></g><g class=\"g-ytitle\"><text class=\"ytitle\" transform=\"rotate(-90,39.434375,260)\" x=\"39.434375\" y=\"260\" text-anchor=\"middle\" style=\"font-family: 'Open Sans', verdana, arial, sans-serif; font-size: 14px; fill: rgb(242, 245, 250); opacity: 1; font-weight: normal; white-space: pre;\">Count</text></g></g></svg>"
      ]
     },
     "metadata": {},
     "output_type": "display_data"
    }
   ],
   "source": [
    "import pandas as pd\n",
    "import plotly.express as px\n",
    "\n",
    "\n",
    "# Prepare data for plotting\n",
    "df_count = df.groupby(['position', 'method']).size().reset_index(name='count')\n",
    "\n",
    "# Create a bar plot using Plotly\n",
    "fig = px.bar(df_count, x='position', y='count', color='method', barmode='group',\n",
    "             title='Target chunk position from 50 runs',\n",
    "             color_discrete_map=color_map)\n",
    "\n",
    "# Customize axis labels, layout, and apply dark theme\n",
    "fig.update_xaxes(title_text='Position')\n",
    "fig.update_yaxes(title_text='Count', tickformat='d')\n",
    "fig.update_layout(\n",
    "    template='plotly_dark',\n",
    "    legend_title_text='Method',\n",
    "    bargap=0.5,  # Smaller gap between bars of different x-coordinates\n",
    "    bargroupgap=0.1  # Smaller gap within groups of bars\n",
    ")\n",
    "\n",
    "# Update the layout to show all x-axis labels and rotate them if necessary\n",
    "fig.update_xaxes(\n",
    "    tickmode='array',\n",
    "    tickvals=df_count['position'],\n",
    "    ticktext=df_count['position'],\n",
    "    tickangle=0  # Rotate labels by -45 degrees, adjust the angle as needed\n",
    ")\n",
    "\n",
    "# Update legend names\n",
    "for trace in fig.data:\n",
    "    trace.name = legend_names.get(trace.name, trace.name)\n",
    "\n",
    "# Show the plot\n",
    "fig.show(\"svg\")"
   ]
  },
  {
   "cell_type": "markdown",
   "metadata": {},
   "source": [
    "Plot of average duration"
   ]
  },
  {
   "cell_type": "code",
   "execution_count": 57,
   "metadata": {},
   "outputs": [
    {
     "data": {
      "text/html": [
       "<div>\n",
       "<style scoped>\n",
       "    .dataframe tbody tr th:only-of-type {\n",
       "        vertical-align: middle;\n",
       "    }\n",
       "\n",
       "    .dataframe tbody tr th {\n",
       "        vertical-align: top;\n",
       "    }\n",
       "\n",
       "    .dataframe thead th {\n",
       "        text-align: right;\n",
       "    }\n",
       "</style>\n",
       "<table border=\"1\" class=\"dataframe\">\n",
       "  <thead>\n",
       "    <tr style=\"text-align: right;\">\n",
       "      <th></th>\n",
       "      <th>method</th>\n",
       "      <th>average_duration (s)</th>\n",
       "    </tr>\n",
       "  </thead>\n",
       "  <tbody>\n",
       "    <tr>\n",
       "      <th>2</th>\n",
       "      <td>vanilla</td>\n",
       "      <td>0.385295</td>\n",
       "    </tr>\n",
       "    <tr>\n",
       "      <th>0</th>\n",
       "      <td>gpt-3.5-turbo-1106</td>\n",
       "      <td>1.493956</td>\n",
       "    </tr>\n",
       "    <tr>\n",
       "      <th>1</th>\n",
       "      <td>gpt-4-1106-preview</td>\n",
       "      <td>2.760631</td>\n",
       "    </tr>\n",
       "  </tbody>\n",
       "</table>\n",
       "</div>"
      ],
      "text/plain": [
       "               method  average_duration (s)\n",
       "2             vanilla              0.385295\n",
       "0  gpt-3.5-turbo-1106              1.493956\n",
       "1  gpt-4-1106-preview              2.760631"
      ]
     },
     "execution_count": 57,
     "metadata": {},
     "output_type": "execute_result"
    }
   ],
   "source": [
    "# Calculate the average position for each method\n",
    "df_avg_duration = df.groupby('method')['duration'].mean().reset_index(name='average_duration (s)')\n",
    "\n",
    "# Sort the DataFrame in ascending order based on average positions\n",
    "df_avgd_sorted = df_avg_duration.sort_values(by='average_duration (s)', ascending=True)\n",
    "\n",
    "df_avgd_sorted"
   ]
  },
  {
   "cell_type": "code",
   "execution_count": 66,
   "metadata": {},
   "outputs": [
    {
     "data": {
      "image/svg+xml": [
       "<svg class=\"main-svg\" xmlns=\"http://www.w3.org/2000/svg\" xmlns:xlink=\"http://www.w3.org/1999/xlink\" width=\"700\" height=\"500\" style=\"\" viewBox=\"0 0 700 500\"><rect x=\"0\" y=\"0\" width=\"700\" height=\"500\" style=\"fill: rgb(17, 17, 17); fill-opacity: 1;\"/><defs id=\"defs-9ef4fe\"><g class=\"clips\"><clipPath id=\"clip9ef4fexyplot\" class=\"plotclip\"><rect width=\"325\" height=\"288\"/></clipPath><clipPath class=\"axesclip\" id=\"clip9ef4fex\"><rect x=\"80\" y=\"0\" width=\"325\" height=\"500\"/></clipPath><clipPath class=\"axesclip\" id=\"clip9ef4fey\"><rect x=\"0\" y=\"100\" width=\"700\" height=\"288\"/></clipPath><clipPath class=\"axesclip\" id=\"clip9ef4fexy\"><rect x=\"80\" y=\"100\" width=\"325\" height=\"288\"/></clipPath></g><g class=\"gradients\"/><g class=\"patterns\"/></defs><g class=\"bglayer\"/><g class=\"layer-below\"><g class=\"imagelayer\"/><g class=\"shapelayer\"/></g><g class=\"cartesianlayer\"><g class=\"subplot xy\"><g class=\"layer-subplot\"><g class=\"shapelayer\"/><g class=\"imagelayer\"/></g><g class=\"minor-gridlayer\"><g class=\"x\"/><g class=\"y\"/></g><g class=\"gridlayer\"><g class=\"x\"/><g class=\"y\"><path class=\"ygrid crisp\" transform=\"translate(0,338.45)\" d=\"M80,0h325\" style=\"stroke: rgb(40, 52, 66); stroke-opacity: 1; stroke-width: 1px;\"/><path class=\"ygrid crisp\" transform=\"translate(0,288.89)\" d=\"M80,0h325\" style=\"stroke: rgb(40, 52, 66); stroke-opacity: 1; stroke-width: 1px;\"/><path class=\"ygrid crisp\" transform=\"translate(0,239.34)\" d=\"M80,0h325\" style=\"stroke: rgb(40, 52, 66); stroke-opacity: 1; stroke-width: 1px;\"/><path class=\"ygrid crisp\" transform=\"translate(0,189.78)\" d=\"M80,0h325\" style=\"stroke: rgb(40, 52, 66); stroke-opacity: 1; stroke-width: 1px;\"/><path class=\"ygrid crisp\" transform=\"translate(0,140.23)\" d=\"M80,0h325\" style=\"stroke: rgb(40, 52, 66); stroke-opacity: 1; stroke-width: 1px;\"/></g></g><g class=\"zerolinelayer\"><path class=\"yzl zl crisp\" transform=\"translate(0,388)\" d=\"M80,0h325\" style=\"stroke: rgb(40, 52, 66); stroke-opacity: 1; stroke-width: 2px;\"/></g><path class=\"xlines-below\"/><path class=\"ylines-below\"/><g class=\"overlines-below\"/><g class=\"xaxislayer-below\"/><g class=\"yaxislayer-below\"/><g class=\"overaxes-below\"/><g class=\"plot\" transform=\"translate(80,100)\" clip-path=\"url(#clip9ef4fexyplot)\"><g class=\"barlayer mlayer\"><g class=\"trace bars\" style=\"opacity: 1;\"><g class=\"points\"><g class=\"point\"><path d=\"M10.83,288V249.81H97.5V288Z\" style=\"vector-effect: none; opacity: 1; stroke-width: 0.5px; fill: rgb(44, 160, 44); fill-opacity: 1; stroke: rgb(17, 17, 17); stroke-opacity: 1;\"/><text class=\"bartext bartext-inside\" text-anchor=\"middle\" data-notex=\"1\" x=\"0\" y=\"0\" style=\"font-family: 'Open Sans', verdana, arial, sans-serif; font-size: 12px; fill: rgb(255, 255, 255); fill-opacity: 1; white-space: pre;\" transform=\"translate(54.165,264.81)\">0.39</text></g></g></g><g class=\"trace bars\" style=\"opacity: 1;\"><g class=\"points\"><g class=\"point\"><path d=\"M119.17,288V139.94H205.83V288Z\" style=\"vector-effect: none; opacity: 1; stroke-width: 0.5px; fill: rgb(31, 119, 180); fill-opacity: 1; stroke: rgb(17, 17, 17); stroke-opacity: 1;\"/><text class=\"bartext bartext-inside\" text-anchor=\"middle\" data-notex=\"1\" x=\"0\" y=\"0\" style=\"font-family: 'Open Sans', verdana, arial, sans-serif; font-size: 12px; fill: rgb(255, 255, 255); fill-opacity: 1; white-space: pre;\" transform=\"translate(162.5,154.94)\">1.49</text></g></g></g><g class=\"trace bars\" style=\"opacity: 1;\"><g class=\"points\"><g class=\"point\"><path d=\"M227.5,288V14.4H314.17V288Z\" style=\"vector-effect: none; opacity: 1; stroke-width: 0.5px; fill: rgb(214, 39, 40); fill-opacity: 1; stroke: rgb(17, 17, 17); stroke-opacity: 1;\"/><text class=\"bartext bartext-inside\" text-anchor=\"middle\" data-notex=\"1\" x=\"0\" y=\"0\" style=\"font-family: 'Open Sans', verdana, arial, sans-serif; font-size: 12px; fill: rgb(255, 255, 255); fill-opacity: 1; white-space: pre;\" transform=\"translate(270.83500000000004,29.4)\">2.76</text></g></g></g></g></g><g class=\"overplot\"/><path class=\"xlines-above crisp\" d=\"M0,0\" style=\"fill: none;\"/><path class=\"ylines-above crisp\" d=\"M0,0\" style=\"fill: none;\"/><g class=\"overlines-above\"/><g class=\"xaxislayer-above\"><g class=\"xtick\"><text text-anchor=\"start\" x=\"0\" y=\"401\" transform=\"translate(134.17000000000002,0) rotate(30,0,395)\" style=\"font-family: 'Open Sans', verdana, arial, sans-serif; font-size: 12px; fill: rgb(242, 245, 250); fill-opacity: 1; white-space: pre; opacity: 1;\">vanilla</text></g><g class=\"xtick\"><text text-anchor=\"start\" x=\"0\" y=\"401\" transform=\"translate(242.5,0) rotate(30,0,395)\" style=\"font-family: 'Open Sans', verdana, arial, sans-serif; font-size: 12px; fill: rgb(242, 245, 250); fill-opacity: 1; white-space: pre; opacity: 1;\">gpt-3.5-turbo-1106</text></g><g class=\"xtick\"><text text-anchor=\"start\" x=\"0\" y=\"401\" transform=\"translate(350.83,0) rotate(30,0,395)\" style=\"font-family: 'Open Sans', verdana, arial, sans-serif; font-size: 12px; fill: rgb(242, 245, 250); fill-opacity: 1; white-space: pre; opacity: 1;\">gpt-4-1106-preview</text></g></g><g class=\"yaxislayer-above\"><g class=\"ytick\"><text text-anchor=\"end\" x=\"79\" y=\"4.199999999999999\" transform=\"translate(0,388)\" style=\"font-family: 'Open Sans', verdana, arial, sans-serif; font-size: 12px; fill: rgb(242, 245, 250); fill-opacity: 1; white-space: pre; opacity: 1;\">0</text></g><g class=\"ytick\"><text text-anchor=\"end\" x=\"79\" y=\"4.199999999999999\" style=\"font-family: 'Open Sans', verdana, arial, sans-serif; font-size: 12px; fill: rgb(242, 245, 250); fill-opacity: 1; white-space: pre; opacity: 1;\" transform=\"translate(0,338.45)\">0.5</text></g><g class=\"ytick\"><text text-anchor=\"end\" x=\"79\" y=\"4.199999999999999\" style=\"font-family: 'Open Sans', verdana, arial, sans-serif; font-size: 12px; fill: rgb(242, 245, 250); fill-opacity: 1; white-space: pre; opacity: 1;\" transform=\"translate(0,288.89)\">1</text></g><g class=\"ytick\"><text text-anchor=\"end\" x=\"79\" y=\"4.199999999999999\" style=\"font-family: 'Open Sans', verdana, arial, sans-serif; font-size: 12px; fill: rgb(242, 245, 250); fill-opacity: 1; white-space: pre; opacity: 1;\" transform=\"translate(0,239.34)\">1.5</text></g><g class=\"ytick\"><text text-anchor=\"end\" x=\"79\" y=\"4.199999999999999\" style=\"font-family: 'Open Sans', verdana, arial, sans-serif; font-size: 12px; fill: rgb(242, 245, 250); fill-opacity: 1; white-space: pre; opacity: 1;\" transform=\"translate(0,189.78)\">2</text></g><g class=\"ytick\"><text text-anchor=\"end\" x=\"79\" y=\"4.199999999999999\" style=\"font-family: 'Open Sans', verdana, arial, sans-serif; font-size: 12px; fill: rgb(242, 245, 250); fill-opacity: 1; white-space: pre; opacity: 1;\" transform=\"translate(0,140.23)\">2.5</text></g></g><g class=\"overaxes-above\"/></g></g><g class=\"polarlayer\"/><g class=\"smithlayer\"/><g class=\"ternarylayer\"/><g class=\"geolayer\"/><g class=\"funnelarealayer\"/><g class=\"pielayer\"/><g class=\"iciclelayer\"/><g class=\"treemaplayer\"/><g class=\"sunburstlayer\"/><g class=\"glimages\"/><defs id=\"topdefs-9ef4fe\"><g class=\"clips\"/><clipPath id=\"legend9ef4fe\"><rect width=\"276\" height=\"86\" x=\"0\" y=\"0\"/></clipPath></defs><g class=\"layer-above\"><g class=\"imagelayer\"/><g class=\"shapelayer\"/></g><g class=\"infolayer\"><g class=\"legend\" pointer-events=\"all\" transform=\"translate(411.5,100)\"><rect class=\"bg\" shape-rendering=\"crispEdges\" width=\"276\" height=\"86\" x=\"0\" y=\"0\" style=\"stroke: rgb(68, 68, 68); stroke-opacity: 1; fill: rgb(17, 17, 17); fill-opacity: 1; stroke-width: 0px;\"/><g class=\"scrollbox\" transform=\"\" clip-path=\"url(#legend9ef4fe)\"><text class=\"legendtitletext\" text-anchor=\"start\" x=\"2\" y=\"18.2\" style=\"font-family: 'Open Sans', verdana, arial, sans-serif; font-size: 14px; fill: rgb(242, 245, 250); fill-opacity: 1; white-space: pre;\">method</text><g class=\"groups\" transform=\"\"><g class=\"traces\" transform=\"translate(0,32.7)\" style=\"opacity: 1;\"><text class=\"legendtext\" text-anchor=\"start\" x=\"40\" y=\"4.680000000000001\" style=\"font-family: 'Open Sans', verdana, arial, sans-serif; font-size: 12px; fill: rgb(242, 245, 250); fill-opacity: 1; white-space: pre;\">Vanilla Retrieval</text><g class=\"layers\" style=\"opacity: 1;\"><g class=\"legendfill\"/><g class=\"legendlines\"/><g class=\"legendsymbols\"><g class=\"legendpoints\"><path class=\"legendundefined\" d=\"M6,6H-6V-6H6Z\" transform=\"translate(20,0)\" style=\"stroke-width: 0.5px; fill: rgb(44, 160, 44); fill-opacity: 1; stroke: rgb(17, 17, 17); stroke-opacity: 1;\"/></g></g></g><rect class=\"legendtoggle\" x=\"0\" y=\"-9.5\" width=\"270.0625\" height=\"19\" style=\"fill: rgb(0, 0, 0); fill-opacity: 0;\"/></g></g><g class=\"groups\" transform=\"\"><g class=\"traces\" transform=\"translate(0,51.7)\" style=\"opacity: 1;\"><text class=\"legendtext\" text-anchor=\"start\" x=\"40\" y=\"4.680000000000001\" style=\"font-family: 'Open Sans', verdana, arial, sans-serif; font-size: 12px; fill: rgb(242, 245, 250); fill-opacity: 1; white-space: pre;\">Vanilla Retrieval + GPT-3.5 Reranking</text><g class=\"layers\" style=\"opacity: 1;\"><g class=\"legendfill\"/><g class=\"legendlines\"/><g class=\"legendsymbols\"><g class=\"legendpoints\"><path class=\"legendundefined\" d=\"M6,6H-6V-6H6Z\" transform=\"translate(20,0)\" style=\"stroke-width: 0.5px; fill: rgb(31, 119, 180); fill-opacity: 1; stroke: rgb(17, 17, 17); stroke-opacity: 1;\"/></g></g></g><rect class=\"legendtoggle\" x=\"0\" y=\"-9.5\" width=\"270.0625\" height=\"19\" style=\"fill: rgb(0, 0, 0); fill-opacity: 0;\"/></g></g><g class=\"groups\" transform=\"\"><g class=\"traces\" transform=\"translate(0,70.7)\" style=\"opacity: 1;\"><text class=\"legendtext\" text-anchor=\"start\" x=\"40\" y=\"4.680000000000001\" style=\"font-family: 'Open Sans', verdana, arial, sans-serif; font-size: 12px; fill: rgb(242, 245, 250); fill-opacity: 1; white-space: pre;\">Vanilla Retrieval + GPT-4 Reranking</text><g class=\"layers\" style=\"opacity: 1;\"><g class=\"legendfill\"/><g class=\"legendlines\"/><g class=\"legendsymbols\"><g class=\"legendpoints\"><path class=\"legendundefined\" d=\"M6,6H-6V-6H6Z\" transform=\"translate(20,0)\" style=\"stroke-width: 0.5px; fill: rgb(214, 39, 40); fill-opacity: 1; stroke: rgb(17, 17, 17); stroke-opacity: 1;\"/></g></g></g><rect class=\"legendtoggle\" x=\"0\" y=\"-9.5\" width=\"270.0625\" height=\"19\" style=\"fill: rgb(0, 0, 0); fill-opacity: 0;\"/></g></g></g><rect class=\"scrollbar\" rx=\"20\" ry=\"3\" width=\"0\" height=\"0\" x=\"0\" y=\"0\" style=\"fill: rgb(128, 139, 164); fill-opacity: 1;\"/></g><g class=\"g-gtitle\"><text class=\"gtitle\" x=\"35\" y=\"50\" text-anchor=\"start\" dy=\"0em\" style=\"font-family: 'Open Sans', verdana, arial, sans-serif; font-size: 17px; fill: rgb(242, 245, 250); opacity: 1; font-weight: normal; white-space: pre;\">Average Duration Across 50 Runs</text></g><g class=\"g-xtitle\"><text class=\"xtitle\" x=\"242.5\" y=\"487.309765625\" text-anchor=\"middle\" style=\"font-family: 'Open Sans', verdana, arial, sans-serif; font-size: 14px; fill: rgb(242, 245, 250); opacity: 1; font-weight: normal; white-space: pre;\">Method</text></g><g class=\"g-ytitle\"><text class=\"ytitle\" transform=\"rotate(-90,35.075,244)\" x=\"35.075\" y=\"244\" text-anchor=\"middle\" style=\"font-family: 'Open Sans', verdana, arial, sans-serif; font-size: 14px; fill: rgb(242, 245, 250); opacity: 1; font-weight: normal; white-space: pre;\">Duration (Seconds)</text></g></g></svg>"
      ]
     },
     "metadata": {},
     "output_type": "display_data"
    }
   ],
   "source": [
    "import pandas as pd\n",
    "import plotly.express as px\n",
    "\n",
    "# Create a bar plot for duration with specified colors\n",
    "fig = px.bar(df_avgd_sorted, x='method', y='average_duration (s)', color='method',\n",
    "             title='Average Duration Across 50 Runs',\n",
    "             color_discrete_map=color_map,\n",
    "             text='average_duration (s)')  # Add this line\n",
    "\n",
    "# Customize the text inside bars\n",
    "fig.update_traces(texttemplate='%{text:.2f}', textposition='inside')\n",
    "\n",
    "# Customize axis labels and apply dark theme\n",
    "fig.update_xaxes(title_text='Method')\n",
    "fig.update_yaxes(title_text='Duration (Seconds)')\n",
    "fig.update_layout(template='plotly_dark')\n",
    "\n",
    "# Make the bars thinner\n",
    "fig.update_traces(marker=dict(line=dict(width=0.5)))\n",
    "\n",
    "\n",
    "for trace in fig.data:\n",
    "    trace.name = legend_names.get(trace.name, trace.name)\n",
    "\n",
    "# Show the plot\n",
    "fig.show(\"svg\")\n"
   ]
  }
 ],
 "metadata": {
  "kernelspec": {
   "display_name": "ragnv",
   "language": "python",
   "name": "python3"
  },
  "language_info": {
   "codemirror_mode": {
    "name": "ipython",
    "version": 3
   },
   "file_extension": ".py",
   "mimetype": "text/x-python",
   "name": "python",
   "nbconvert_exporter": "python",
   "pygments_lexer": "ipython3",
   "version": "3.11.6"
  }
 },
 "nbformat": 4,
 "nbformat_minor": 2
}
